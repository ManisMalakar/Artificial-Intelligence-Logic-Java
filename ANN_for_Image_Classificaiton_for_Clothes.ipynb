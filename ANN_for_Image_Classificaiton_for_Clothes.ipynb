{
  "nbformat": 4,
  "nbformat_minor": 0,
  "metadata": {
    "colab": {
      "name": "ANN for Image Classificaiton.ipynb",
      "provenance": [],
      "authorship_tag": "ABX9TyPn8wYWDcWaectMuMOqtM5U",
      "include_colab_link": true
    },
    "kernelspec": {
      "name": "python3",
      "display_name": "Python 3"
    }
  },
  "cells": [
    {
      "cell_type": "markdown",
      "metadata": {
        "id": "view-in-github",
        "colab_type": "text"
      },
      "source": [
        "<a href=\"https://colab.research.google.com/github/ManisMalakar/Artificial-Intelligence-Logic-Java/blob/main/ANN_for_Image_Classificaiton_for_Clothes.ipynb\" target=\"_parent\"><img src=\"https://colab.research.google.com/assets/colab-badge.svg\" alt=\"Open In Colab\"/></a>"
      ]
    },
    {
      "cell_type": "code",
      "metadata": {
        "id": "oFewpEim9uP-"
      },
      "source": [
        "import tensorflow as tf\n",
        "import numpy as np\n",
        "import pandas as pd\n",
        "import matplotlib.pyplot as plt"
      ],
      "execution_count": 9,
      "outputs": []
    },
    {
      "cell_type": "code",
      "metadata": {
        "id": "EmhoHSLC-NB2"
      },
      "source": [
        "#Importing the dataset\n",
        "from tensorflow.keras.datasets import fashion_mnist"
      ],
      "execution_count": 11,
      "outputs": []
    },
    {
      "cell_type": "code",
      "metadata": {
        "id": "fjH_5c9d_FOd"
      },
      "source": [
        "#Loading the dataset\n",
        "(x_train,y_train), (x_test,y_test)=fashion_mnist.load_data()"
      ],
      "execution_count": 15,
      "outputs": []
    },
    {
      "cell_type": "code",
      "metadata": {
        "colab": {
          "base_uri": "https://localhost:8080/"
        },
        "id": "G6cvKqcI_eF5",
        "outputId": "06a1f24e-164b-4d51-d8f8-99522d814f99"
      },
      "source": [
        "x_train.shape, x_test.shape"
      ],
      "execution_count": 18,
      "outputs": [
        {
          "output_type": "execute_result",
          "data": {
            "text/plain": [
              "((60000, 28, 28), (10000, 28, 28))"
            ]
          },
          "metadata": {
            "tags": []
          },
          "execution_count": 18
        }
      ]
    },
    {
      "cell_type": "code",
      "metadata": {
        "colab": {
          "base_uri": "https://localhost:8080/"
        },
        "id": "BlYptLBk_fvx",
        "outputId": "d90b0cbd-7857-40ee-8d9a-32a26907aea6"
      },
      "source": [
        "y_train.shape, y_test.shape"
      ],
      "execution_count": 25,
      "outputs": [
        {
          "output_type": "execute_result",
          "data": {
            "text/plain": [
              "((60000,), (10000,))"
            ]
          },
          "metadata": {
            "tags": []
          },
          "execution_count": 25
        }
      ]
    },
    {
      "cell_type": "code",
      "metadata": {
        "id": "nHOfb7prAEq2"
      },
      "source": [
        "class_names=['0 Top or Tshirt','1 Trouser','2 Pullover','3 Dress','4 Coat','5 Sandal','6 Shirt','7 Sneakers','8 Bag','9 Ankle Boot']"
      ],
      "execution_count": 26,
      "outputs": []
    },
    {
      "cell_type": "code",
      "metadata": {
        "colab": {
          "base_uri": "https://localhost:8080/"
        },
        "id": "hoWZNHYtAbAB",
        "outputId": "33dfaf09-dc3f-4162-aceb-678c5b2f0815"
      },
      "source": [
        "print(class_names)"
      ],
      "execution_count": 27,
      "outputs": [
        {
          "output_type": "stream",
          "text": [
            "['0 Top or Tshirt', '1 Trouser', '2 Pullover', '3 Dress', '4 Coat', '5 Sandal', '6 Shirt', '7 Sneakers', '8 Bag', '9 Ankle Boot']\n"
          ],
          "name": "stdout"
        }
      ]
    },
    {
      "cell_type": "code",
      "metadata": {
        "id": "QD8MrptVAdDB"
      },
      "source": [
        "#Data Exploration"
      ],
      "execution_count": 28,
      "outputs": []
    },
    {
      "cell_type": "code",
      "metadata": {
        "colab": {
          "base_uri": "https://localhost:8080/",
          "height": 282
        },
        "id": "QEteMbwXAp0a",
        "outputId": "95542adb-f70e-417b-dd1b-bd316f39b892"
      },
      "source": [
        "plt.figure()\n",
        "plt.imshow(x_train[1])\n",
        "plt.colorbar()"
      ],
      "execution_count": 31,
      "outputs": [
        {
          "output_type": "execute_result",
          "data": {
            "text/plain": [
              "<matplotlib.colorbar.Colorbar at 0x7fc3e3de27b8>"
            ]
          },
          "metadata": {
            "tags": []
          },
          "execution_count": 31
        },
        {
          "output_type": "display_data",
          "data": {
            "image/png": "[encoded data removed]",
            "text/plain": [
              "<Figure size 432x288 with 2 Axes>"
            ]
          },
          "metadata": {
            "tags": [],
            "needs_background": "light"
          }
        }
      ]
    },
    {
      "cell_type": "code",
      "metadata": {
        "colab": {
          "base_uri": "https://localhost:8080/"
        },
        "id": "MyKYxdneAvYu",
        "outputId": "5100f5fe-73fa-46ca-fa3b-5bbb7bd5fc36"
      },
      "source": [
        "y_train[1]"
      ],
      "execution_count": 32,
      "outputs": [
        {
          "output_type": "execute_result",
          "data": {
            "text/plain": [
              "0"
            ]
          },
          "metadata": {
            "tags": []
          },
          "execution_count": 32
        }
      ]
    },
    {
      "cell_type": "code",
      "metadata": {
        "id": "Y4Zm2PSTA_wY"
      },
      "source": [
        "#Normalizing the datset\n",
        "x_train=x_train/255.0\n",
        "x_test=x_test/255.0"
      ],
      "execution_count": 34,
      "outputs": []
    },
    {
      "cell_type": "code",
      "metadata": {
        "colab": {
          "base_uri": "https://localhost:8080/",
          "height": 282
        },
        "id": "kCfOvmpTBIx3",
        "outputId": "3bc4b7e6-2c65-4b5b-9400-e27c3eeb00f7"
      },
      "source": [
        "plt.figure()\n",
        "plt.imshow(x_train[1])\n",
        "plt.colorbar()"
      ],
      "execution_count": 36,
      "outputs": [
        {
          "output_type": "execute_result",
          "data": {
            "text/plain": [
              "<matplotlib.colorbar.Colorbar at 0x7fc3e3c67d30>"
            ]
          },
          "metadata": {
            "tags": []
          },
          "execution_count": 36
        },
        {
          "output_type": "display_data",
          "data": {
            "image/png": "[encoded data removed]",
            "text/plain": [
              "<Figure size 432x288 with 2 Axes>"
            ]
          },
          "metadata": {
            "tags": [],
            "needs_background": "light"
          }
        }
      ]
    },
    {
      "cell_type": "code",
      "metadata": {
        "colab": {
          "base_uri": "https://localhost:8080/"
        },
        "id": "_SmqICegBP7r",
        "outputId": "f81a3fb8-d28d-4f46-a5a2-afc25f5e589f"
      },
      "source": [
        "#Flattening the dataset\n",
        "x_train.shape,x_test.shape"
      ],
      "execution_count": 38,
      "outputs": [
        {
          "output_type": "execute_result",
          "data": {
            "text/plain": [
              "((60000, 28, 28), (10000, 28, 28))"
            ]
          },
          "metadata": {
            "tags": []
          },
          "execution_count": 38
        }
      ]
    },
    {
      "cell_type": "code",
      "metadata": {
        "colab": {
          "base_uri": "https://localhost:8080/"
        },
        "id": "Kz8xQEe8BZIp",
        "outputId": "5738c937-45fa-4827-b67b-7884588f72aa"
      },
      "source": [
        "x_train=x_train.reshape(-1,28*28)\n",
        "x_test=x_test.reshape(-1,28*28)\n",
        "x_train.shape,x_test.shape"
      ],
      "execution_count": 42,
      "outputs": [
        {
          "output_type": "execute_result",
          "data": {
            "text/plain": [
              "((60000, 784), (10000, 784))"
            ]
          },
          "metadata": {
            "tags": []
          },
          "execution_count": 42
        }
      ]
    },
    {
      "cell_type": "code",
      "metadata": {
        "id": "-qq_SJKqB2HM"
      },
      "source": [
        "#Building the Model"
      ],
      "execution_count": 44,
      "outputs": []
    },
    {
      "cell_type": "code",
      "metadata": {
        "id": "G5QYK97qCjTB"
      },
      "source": [
        "#Defining an object\n",
        "model=tf.keras.models.Sequential()\n",
        "#Sequence of Layers"
      ],
      "execution_count": 45,
      "outputs": []
    },
    {
      "cell_type": "code",
      "metadata": {
        "id": "kaYnw5peCoU5"
      },
      "source": [
        "#Adding first fully connected hidden layer\n",
        "#1) Number of neurons=256\n",
        "#2) Activation Function=ReLU\n",
        "#3) Input Shape=784\n",
        "model.add(tf.keras.layers.Dense(units=256,activation='relu',input_shape=(784,)))"
      ],
      "execution_count": 53,
      "outputs": []
    },
    {
      "cell_type": "code",
      "metadata": {
        "id": "swAXyivIDn_2"
      },
      "source": [
        "#Adding the second layer with dropout\n",
        "model.add(tf.keras.layers.Dropout(0.33))\n",
        "#Regularization Technique, preventing Overfitting"
      ],
      "execution_count": 55,
      "outputs": []
    },
    {
      "cell_type": "code",
      "metadata": {
        "id": "Kz-nh7HyECSR"
      },
      "source": [
        "#Adding the output layer\n",
        "#Units = 10\n",
        "#Activation Function= Softmax\n",
        "model.add(tf.keras.layers.Dense(units=10,activation='softmax'))"
      ],
      "execution_count": 56,
      "outputs": []
    },
    {
      "cell_type": "code",
      "metadata": {
        "id": "by2KXlbKEYbO"
      },
      "source": [
        "#Training the Model"
      ],
      "execution_count": 57,
      "outputs": []
    },
    {
      "cell_type": "code",
      "metadata": {
        "id": "PVMpDZVcIc9X"
      },
      "source": [
        "#Compiling the Model\n",
        "#1. Optimizer(minimize the loss function)=adam\n",
        "#2. Loss Function(acts as guide for optimizer)=sparse_categorical_crossentropy\n",
        "#3. Metrices=sparse_categorical_accuracy\n",
        "\n",
        "model.compile(optimizer='adam',loss='sparse_categorical_crossentropy',metrics='sparse_categorical_accuracy')"
      ],
      "execution_count": 59,
      "outputs": []
    },
    {
      "cell_type": "code",
      "metadata": {
        "id": "hQrhLEyMJLz7"
      },
      "source": [
        "model.summary()"
      ],
      "execution_count": null,
      "outputs": []
    },
    {
      "cell_type": "code",
      "metadata": {
        "colab": {
          "base_uri": "https://localhost:8080/"
        },
        "id": "MoY6UlQfJOvu",
        "outputId": "bc5b76a7-659a-4fd4-db20-e6db687a6ab3"
      },
      "source": [
        "#Training the model\n",
        "model.fit(x_train,y_train,epochs=10)"
      ],
      "execution_count": 61,
      "outputs": [
        {
          "output_type": "stream",
          "text": [
            "Epoch 1/10\n",
            "1875/1875 [==============================] - 8s 4ms/step - loss: 1.0116 - sparse_categorical_accuracy: 0.6131\n",
            "Epoch 2/10\n",
            "1875/1875 [==============================] - 7s 4ms/step - loss: 0.4945 - sparse_categorical_accuracy: 0.8216\n",
            "Epoch 3/10\n",
            "1875/1875 [==============================] - 7s 4ms/step - loss: 0.4253 - sparse_categorical_accuracy: 0.8460\n",
            "Epoch 4/10\n",
            "1875/1875 [==============================] - 7s 4ms/step - loss: 0.3867 - sparse_categorical_accuracy: 0.8585\n",
            "Epoch 5/10\n",
            "1875/1875 [==============================] - 7s 4ms/step - loss: 0.3724 - sparse_categorical_accuracy: 0.8652\n",
            "Epoch 6/10\n",
            "1875/1875 [==============================] - 7s 4ms/step - loss: 0.3538 - sparse_categorical_accuracy: 0.8702\n",
            "Epoch 7/10\n",
            "1875/1875 [==============================] - 7s 4ms/step - loss: 0.3341 - sparse_categorical_accuracy: 0.8778\n",
            "Epoch 8/10\n",
            "1875/1875 [==============================] - 7s 4ms/step - loss: 0.3212 - sparse_categorical_accuracy: 0.8839\n",
            "Epoch 9/10\n",
            "1875/1875 [==============================] - 7s 4ms/step - loss: 0.3046 - sparse_categorical_accuracy: 0.8883\n",
            "Epoch 10/10\n",
            "1875/1875 [==============================] - 7s 4ms/step - loss: 0.3011 - sparse_categorical_accuracy: 0.8880\n"
          ],
          "name": "stdout"
        },
        {
          "output_type": "execute_result",
          "data": {
            "text/plain": [
              "<tensorflow.python.keras.callbacks.History at 0x7fc3df93e668>"
            ]
          },
          "metadata": {
            "tags": []
          },
          "execution_count": 61
        }
      ]
    },
    {
      "cell_type": "code",
      "metadata": {
        "colab": {
          "base_uri": "https://localhost:8080/"
        },
        "id": "IBrb5z3UR5Qc",
        "outputId": "541fe7ed-df41-491f-f6bf-734b5461cf03"
      },
      "source": [
        "#Model Evaulation and Prediction\n",
        "test_loss, test_accuracy=model.evaluate(x_test,y_test)"
      ],
      "execution_count": 64,
      "outputs": [
        {
          "output_type": "stream",
          "text": [
            "313/313 [==============================] - 1s 2ms/step - loss: 0.3471 - sparse_categorical_accuracy: 0.8772\n"
          ],
          "name": "stdout"
        }
      ]
    },
    {
      "cell_type": "code",
      "metadata": {
        "colab": {
          "base_uri": "https://localhost:8080/"
        },
        "id": "alPeA6czSeOP",
        "outputId": "61fed3b4-0388-46eb-8e5c-605dd9d5549e"
      },
      "source": [
        "#Model Prediction\n",
        "y_pred=model.predict_classes(x_test)"
      ],
      "execution_count": 65,
      "outputs": [
        {
          "output_type": "stream",
          "text": [
            "/usr/local/lib/python3.6/dist-packages/tensorflow/python/keras/engine/sequential.py:450: UserWarning: `model.predict_classes()` is deprecated and will be removed after 2021-01-01. Please use instead:* `np.argmax(model.predict(x), axis=-1)`,   if your model does multi-class classification   (e.g. if it uses a `softmax` last-layer activation).* `(model.predict(x) > 0.5).astype(\"int32\")`,   if your model does binary classification   (e.g. if it uses a `sigmoid` last-layer activation).\n",
            "  warnings.warn('`model.predict_classes()` is deprecated and '\n"
          ],
          "name": "stderr"
        }
      ]
    },
    {
      "cell_type": "code",
      "metadata": {
        "colab": {
          "base_uri": "https://localhost:8080/"
        },
        "id": "M8CzZygKSlZH",
        "outputId": "d2852117-ed1a-4149-b50c-64e473a68258"
      },
      "source": [
        "print(y_pred[0])"
      ],
      "execution_count": 69,
      "outputs": [
        {
          "output_type": "stream",
          "text": [
            "9\n"
          ],
          "name": "stdout"
        }
      ]
    },
    {
      "cell_type": "code",
      "metadata": {
        "colab": {
          "base_uri": "https://localhost:8080/"
        },
        "id": "8W2GOQbLSzZj",
        "outputId": "94d2e955-524e-42da-91a9-96789b88bbf4"
      },
      "source": [
        "y_pred[100],y_test[100] #Predicted and actual output"
      ],
      "execution_count": 72,
      "outputs": [
        {
          "output_type": "execute_result",
          "data": {
            "text/plain": [
              "(3, 3)"
            ]
          },
          "metadata": {
            "tags": []
          },
          "execution_count": 72
        }
      ]
    },
    {
      "cell_type": "code",
      "metadata": {
        "colab": {
          "base_uri": "https://localhost:8080/"
        },
        "id": "pQ3hXlXsTIXR",
        "outputId": "9816660d-1c23-41e0-febc-93b48b27ed64"
      },
      "source": [
        "#Confusion metrix\n",
        "from sklearn.metrics import confusion_matrix, accuracy_score\n",
        "cm=confusion_matrix(y_test,y_pred)\n",
        "print(cm)"
      ],
      "execution_count": 76,
      "outputs": [
        {
          "output_type": "stream",
          "text": [
            "[[796   2   9  44   3   0 140   0   6   0]\n",
            " [  4 959   2  30   3   0   2   0   0   0]\n",
            " [ 10   1 769  16  99   0 105   0   0   0]\n",
            " [ 12   6   7 922  17   0  35   0   1   0]\n",
            " [  0   1  83  53 790   0  73   0   0   0]\n",
            " [  0   0   0   0   0 942   0  27   1  30]\n",
            " [101   2  60  41  62   0 725   0   9   0]\n",
            " [  0   0   0   0   0  19   0 924   0  57]\n",
            " [  2   1   2   8   2   5  10   3 967   0]\n",
            " [  0   0   0   0   0   3   1  18   0 978]]\n"
          ],
          "name": "stdout"
        }
      ]
    },
    {
      "cell_type": "code",
      "metadata": {
        "colab": {
          "base_uri": "https://localhost:8080/"
        },
        "id": "2AePcYFqTb7Q",
        "outputId": "dd22f7fe-39ed-41dd-90d6-4cd3128973a6"
      },
      "source": [
        "acc_cm=accuracy_score(y_test,y_pred)\n",
        "print(acc_cm)"
      ],
      "execution_count": 79,
      "outputs": [
        {
          "output_type": "stream",
          "text": [
            "0.8772\n"
          ],
          "name": "stdout"
        }
      ]
    }
  ]
}